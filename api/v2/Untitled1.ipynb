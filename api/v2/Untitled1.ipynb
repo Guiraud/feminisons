{
 "cells": [
  {
   "cell_type": "code",
   "execution_count": 21,
   "metadata": {},
   "outputs": [
    {
     "name": "stdout",
     "output_type": "stream",
     "text": [
      "2019-02-18 17:09:38,092 - spacy_lefff.downloader - INFO - data already set up\n",
      "2019-02-18 17:09:38,093 - spacy_lefff.melt_tagger - INFO - Token melt_tagger already registered\n",
      "2019-02-18 17:09:38,094 - spacy_lefff.melt_tagger - INFO -   TAGGER: Loading lexicon...\n",
      "2019-02-18 17:09:38,577 - spacy_lefff.melt_tagger - INFO -   TAGGER: Loading tags...\n",
      "2019-02-18 17:09:38,606 - spacy_lefff.melt_tagger - INFO -   TAGGER: Loading model from /home/mehdi.guiraud/miniconda3/lib/python3.7/site-packages/spacy_lefff/data/tagger/models/fr...\n",
      "2019-02-18 17:09:39,071 - spacy_lefff.melt_tagger - INFO -   TAGGER: Loading model from /home/mehdi.guiraud/miniconda3/lib/python3.7/site-packages/spacy_lefff/data/tagger/models/fr: done\n",
      "2019-02-18 17:09:39,181 - spacy_lefff.lefff - INFO - New LefffLemmatizer instantiated.\n",
      "2019-02-18 17:09:39,183 - spacy_lefff.lefff - INFO - Token lefff_lemma already registered\n",
      "2019-02-18 17:09:39,187 - spacy_lefff.lefff - INFO - Reading lefff data...\n",
      "2019-02-18 17:09:39,657 - spacy_lefff.lefff - INFO - Successfully loaded lefff lemmatizer\n",
      "2019-02-18 17:09:39,722 - spacy_lefff.melt_tagger - INFO -   TAGGER: POS Tagging...\n",
      "Paris PROPN NPP None PROPN__Gender=Masc|Number=Sing Paris\n",
      "{'text': 'Paris', 'pos_': 'PROPN', 'melt_tagger': 'NPP', 'lefff_lemma': None, 'tag_': 'PROPN__Gender=Masc|Number=Sing', 'lemma_': 10427160276079242800}\n",
      "sql :\n",
      "est AUX V être AUX__Mood=Ind|Number=Sing|Person=3|Tense=Pres|VerbForm=Fin être\n",
      "{'text': 'est', 'pos_': 'AUX', 'melt_tagger': 'V', 'lefff_lemma': 'être', 'tag_': 'AUX__Mood=Ind|Number=Sing|Person=3|Tense=Pres|VerbForm=Fin', 'lemma_': 198149567613473063}\n",
      "sql :\n",
      "une DET DET un DET__Definite=Ind|Gender=Fem|Number=Sing|PronType=Art un\n",
      "{'text': 'une', 'pos_': 'DET', 'melt_tagger': 'DET', 'lefff_lemma': 'un', 'tag_': 'DET__Definite=Ind|Gender=Fem|Number=Sing|PronType=Art', 'lemma_': 12188161997964598936}\n",
      "sql :\n",
      "garçon NOUN NC garçon NOUN__Gender=Fem|Number=Sing garçon\n",
      "{'text': 'garçon', 'pos_': 'NOUN', 'melt_tagger': 'NC', 'lefff_lemma': 'garçon', 'tag_': 'NOUN__Gender=Fem|Number=Sing', 'lemma_': 10934414907323639137}\n",
      "sql :\n",
      "très ADV ADV très ADV___ très\n",
      "{'text': 'très', 'pos_': 'ADV', 'melt_tagger': 'ADV', 'lefff_lemma': 'très', 'tag_': 'ADV___', 'lemma_': 5241201599711993136}\n",
      "sql :\n",
      "chère ADJ ADJ cher ADJ__Gender=Fem|Number=Sing cher\n",
      "{'text': 'chère', 'pos_': 'ADJ', 'melt_tagger': 'ADJ', 'lefff_lemma': 'cher', 'tag_': 'ADJ__Gender=Fem|Number=Sing', 'lemma_': 6984195771671034087}\n",
      "sql :\n",
      ". PUNCT PONCT None PUNCT___ .\n",
      "{'text': '.', 'pos_': 'PUNCT', 'melt_tagger': 'PONCT', 'lefff_lemma': None, 'tag_': 'PUNCT___', 'lemma_': 12646065887601541794}\n",
      "sql :\n"
     ]
    }
   ],
   "source": [
    "import spacy\n",
    "import pandas as pd\n",
    "import psycopg2\n",
    "import io\n",
    "from spacy_lefff import LefffLemmatizer, POSTagger\n",
    "\n",
    "from sqlalchemy import create_engine\n",
    "from konnect_polen import *\n",
    "host='localhost:5433'\n",
    "engine = create_engine('postgresql://'+configuration_db_user_localhost+':'+configuration_db_pass_localhost+'@'+host+'/mehdi.guiraud',encoding='utf-8')\n",
    "\n",
    "\n",
    "\n",
    "nlp = spacy.load('fr')\n",
    "pos = POSTagger()\n",
    "french_lemmatizer = LefffLemmatizer(after_melt=True)\n",
    "nlp.add_pipe(pos, name='pos', after='parser')\n",
    "nlp.add_pipe(french_lemmatizer, name='lefff', after='pos')\n",
    "doc = nlp(u\"Paris est une garçon très chère.\")\n",
    "for d in doc:\n",
    "    print(d.text, d.pos_, d._.melt_tagger, d._.lefff_lemma, d.tag_, d.lemma_)\n",
    "    texte={'text':d.text,'pos_':d.pos_, 'melt_tagger':d._.melt_tagger, 'lefff_lemma':d._.lefff_lemma, 'tag_':d.tag_, 'lemma_':d.lemma}\n",
    "    print(texte)\n",
    "    #df_texte=pd.DataFrame(df_texte)\n",
    "    print(\"sql :\")\n",
    "    df_texte.to_sql('phrase',engine, if_exists='append', index=False)\n",
    "    \n"
   ]
  }
 ],
 "metadata": {
  "kernelspec": {
   "display_name": "Python 3",
   "language": "python",
   "name": "python3"
  },
  "language_info": {
   "codemirror_mode": {
    "name": "ipython",
    "version": 3
   },
   "file_extension": ".py",
   "mimetype": "text/x-python",
   "name": "python",
   "nbconvert_exporter": "python",
   "pygments_lexer": "ipython3",
   "version": "3.7.0"
  }
 },
 "nbformat": 4,
 "nbformat_minor": 2
}
