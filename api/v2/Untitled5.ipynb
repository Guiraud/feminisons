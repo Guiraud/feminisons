{
 "cells": [
  {
   "cell_type": "code",
   "execution_count": 1,
   "metadata": {},
   "outputs": [
    {
     "name": "stdout",
     "output_type": "stream",
     "text": [
      "Use device: cpu\n",
      "---\n",
      "Loading: tokenize\n",
      "With settings: \n",
      "{'model_path': '/home/mehdi.guiraud/stanfordnlp_resources/fr_spoken_models/fr_spoken_tokenizer.pt', 'lang': 'fr', 'shorthand': 'fr_spoken', 'mode': 'predict'}\n",
      "---\n",
      "Loading: pos\n",
      "With settings: \n",
      "{'model_path': '/home/mehdi.guiraud/stanfordnlp_resources/fr_spoken_models/fr_spoken_tagger.pt', 'pretrain_path': '/home/mehdi.guiraud/stanfordnlp_resources/fr_spoken_models/fr_spoken.pretrain.pt', 'lang': 'fr', 'shorthand': 'fr_spoken', 'mode': 'predict'}\n",
      "---\n",
      "Loading: lemma\n",
      "With settings: \n",
      "{'model_path': '/home/mehdi.guiraud/stanfordnlp_resources/fr_spoken_models/fr_spoken_lemmatizer.pt', 'lang': 'fr', 'shorthand': 'fr_spoken', 'mode': 'predict'}\n",
      "Building an attentional Seq2Seq model...\n",
      "Using a Bi-LSTM encoder\n",
      "Using soft attention for LSTM.\n",
      "Finetune all embeddings.\n",
      "[Running seq2seq lemmatizer with edit classifier]\n",
      "---\n",
      "Loading: depparse\n",
      "With settings: \n",
      "{'model_path': '/home/mehdi.guiraud/stanfordnlp_resources/fr_spoken_models/fr_spoken_parser.pt', 'pretrain_path': '/home/mehdi.guiraud/stanfordnlp_resources/fr_spoken_models/fr_spoken.pretrain.pt', 'lang': 'fr', 'shorthand': 'fr_spoken', 'mode': 'predict'}\n",
      "Done loading processors!\n",
      "---\n"
     ]
    },
    {
     "ename": "NameError",
     "evalue": "name 'CoreNLPDependencyParser' is not defined",
     "output_type": "error",
     "traceback": [
      "\u001b[0;31m---------------------------------------------------------------------------\u001b[0m",
      "\u001b[0;31mNameError\u001b[0m                                 Traceback (most recent call last)",
      "\u001b[0;32m<ipython-input-1-114895d7e57f>\u001b[0m in \u001b[0;36m<module>\u001b[0;34m\u001b[0m\n\u001b[1;32m      4\u001b[0m \u001b[0mdoc\u001b[0m \u001b[0;34m=\u001b[0m \u001b[0mnlp\u001b[0m\u001b[0;34m(\u001b[0m\u001b[0;34m\"La Femme naît libre et demeure égale à l'homme en droits.\"\u001b[0m\u001b[0;34m)\u001b[0m\u001b[0;34m\u001b[0m\u001b[0m\n\u001b[1;32m      5\u001b[0m \u001b[0;31m#doc.sentences[0].print_dependencies()\u001b[0m\u001b[0;34m\u001b[0m\u001b[0;34m\u001b[0m\u001b[0m\n\u001b[0;32m----> 6\u001b[0;31m \u001b[0mdep_parser\u001b[0m \u001b[0;34m=\u001b[0m \u001b[0mCoreNLPDependencyParser\u001b[0m\u001b[0;34m(\u001b[0m\u001b[0murl\u001b[0m\u001b[0;34m=\u001b[0m\u001b[0;34m'http://localhost:9000'\u001b[0m\u001b[0;34m)\u001b[0m\u001b[0;34m\u001b[0m\u001b[0m\n\u001b[0m\u001b[1;32m      7\u001b[0m \u001b[0mparse\u001b[0m\u001b[0;34m,\u001b[0m \u001b[0;34m=\u001b[0m \u001b[0mdep_parser\u001b[0m\u001b[0;34m.\u001b[0m\u001b[0mraw_parse\u001b[0m\u001b[0;34m(\u001b[0m\u001b[0;34m'La Femme naît libre et demeure égale à l\\'homme en droits.'\u001b[0m\u001b[0;34m)\u001b[0m\u001b[0;34m\u001b[0m\u001b[0m\n\u001b[1;32m      8\u001b[0m \u001b[0mprint\u001b[0m\u001b[0;34m(\u001b[0m\u001b[0mparse\u001b[0m\u001b[0;34m.\u001b[0m\u001b[0mto_conll\u001b[0m\u001b[0;34m(\u001b[0m\u001b[0;36m4\u001b[0m\u001b[0;34m)\u001b[0m\u001b[0;34m)\u001b[0m\u001b[0;34m\u001b[0m\u001b[0m\n",
      "\u001b[0;31mNameError\u001b[0m: name 'CoreNLPDependencyParser' is not defined"
     ]
    }
   ],
   "source": [
    "import stanfordnlp                                                                                                                                                                            \n",
    "#stanfordnlp.download('fr_spoken')   # This downloads the English models for the neural pipeline                                                                                              \n",
    "nlp = stanfordnlp.Pipeline(lang='fr', treebank='fr_spoken') # This sets up a default neural pipeline in English                                                                               \n",
    "doc = nlp(\"La Femme naît libre et demeure égale à l'homme en droits.\")                                                                                                                        \n",
    "#doc.sentences[0].print_dependencies()                                                                                                                                                        \n",
    "dep_parser = CoreNLPDependencyParser(url='http://localhost:9000')                                                                                                                             \n",
    "parse, = dep_parser.raw_parse('La Femme naît libre et demeure égale à l\\'homme en droits.')                                                                                                   \n",
    "print(parse.to_conll(4))"
   ]
  }
 ],
 "metadata": {
  "kernelspec": {
   "display_name": "Python 3",
   "language": "python",
   "name": "python3"
  },
  "language_info": {
   "codemirror_mode": {
    "name": "ipython",
    "version": 3
   },
   "file_extension": ".py",
   "mimetype": "text/x-python",
   "name": "python",
   "nbconvert_exporter": "python",
   "pygments_lexer": "ipython3",
   "version": "3.7.0"
  }
 },
 "nbformat": 4,
 "nbformat_minor": 2
}
